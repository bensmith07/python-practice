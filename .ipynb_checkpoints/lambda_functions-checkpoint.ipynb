{
 "cells": [
  {
   "cell_type": "code",
   "execution_count": 8,
   "id": "f8095b2f",
   "metadata": {},
   "outputs": [],
   "source": [
    "import numpy as np"
   ]
  },
  {
   "cell_type": "markdown",
   "id": "3ffe4a1d",
   "metadata": {},
   "source": [
    "## Exercises from:\n",
    "### https://www.w3resource.com/python-exercises/lambda/index.php"
   ]
  },
  {
   "cell_type": "markdown",
   "id": "1d02c94d",
   "metadata": {},
   "source": [
    "#### 1. create a lambda function that adds 15 to a given number passed in as an argument, "
   ]
  },
  {
   "cell_type": "code",
   "execution_count": 1,
   "id": "3668d22e",
   "metadata": {},
   "outputs": [
    {
     "data": {
      "text/plain": [
       "19"
      ]
     },
     "execution_count": 1,
     "metadata": {},
     "output_type": "execute_result"
    }
   ],
   "source": [
    "add15 = lambda x: x + 15\n",
    "add15(4)"
   ]
  },
  {
   "cell_type": "markdown",
   "id": "713eeb27",
   "metadata": {},
   "source": [
    "#### 2. create a lambda function that multiplies argument x with argument y"
   ]
  },
  {
   "cell_type": "code",
   "execution_count": 2,
   "id": "63691840",
   "metadata": {},
   "outputs": [
    {
     "data": {
      "text/plain": [
       "30"
      ]
     },
     "execution_count": 2,
     "metadata": {},
     "output_type": "execute_result"
    }
   ],
   "source": [
    "multiply = lambda x, y: x * y\n",
    "multiply(6, 5)"
   ]
  },
  {
   "cell_type": "markdown",
   "id": "a9031ec9",
   "metadata": {},
   "source": [
    "#### 3. sort a list of tuples using Lambda."
   ]
  },
  {
   "cell_type": "code",
   "execution_count": 3,
   "id": "de13cd29",
   "metadata": {},
   "outputs": [],
   "source": [
    "list1 = [('English', 88), ('Science', 90), ('Maths', 97), ('Social sciences', 82)]"
   ]
  },
  {
   "cell_type": "code",
   "execution_count": 4,
   "id": "713784b7",
   "metadata": {},
   "outputs": [
    {
     "data": {
      "text/plain": [
       "[('English', 88), ('Maths', 97), ('Science', 90), ('Social sciences', 82)]"
      ]
     },
     "execution_count": 4,
     "metadata": {},
     "output_type": "execute_result"
    }
   ],
   "source": [
    "# sorted by element at index 0 in each tuple\n",
    "sorter = lambda lst: sorted(lst)\n",
    "list2 = sorter(list1)\n",
    "list2"
   ]
  },
  {
   "cell_type": "code",
   "execution_count": 5,
   "id": "65870628",
   "metadata": {},
   "outputs": [
    {
     "data": {
      "text/plain": [
       "[('Social sciences', 82), ('English', 88), ('Science', 90), ('Maths', 97)]"
      ]
     },
     "execution_count": 5,
     "metadata": {},
     "output_type": "execute_result"
    }
   ],
   "source": [
    "# sorted by element at index 1 in each tuple\n",
    "sorter2 = lambda lst: sorted(lst, key=lambda x: x[1])\n",
    "list3 = sorter2(list1)\n",
    "list3"
   ]
  },
  {
   "cell_type": "markdown",
   "id": "aabb68f3",
   "metadata": {},
   "source": [
    "## Exercises From:\n",
    "### https://ds.codeup.com/python/functions/"
   ]
  },
  {
   "cell_type": "markdown",
   "id": "4a3d9974",
   "metadata": {},
   "source": [
    "#### 1. Define a function named is_two. It should accept one input and return True if the passed input is either the number or the string 2, False otherwise."
   ]
  },
  {
   "cell_type": "code",
   "execution_count": 2,
   "id": "69ed6267",
   "metadata": {},
   "outputs": [],
   "source": [
    "is_two = lambda x: x in [2, '2']"
   ]
  },
  {
   "cell_type": "code",
   "execution_count": 3,
   "id": "ea83273f",
   "metadata": {},
   "outputs": [
    {
     "data": {
      "text/plain": [
       "True"
      ]
     },
     "execution_count": 3,
     "metadata": {},
     "output_type": "execute_result"
    }
   ],
   "source": [
    "is_two(2)"
   ]
  },
  {
   "cell_type": "code",
   "execution_count": 4,
   "id": "959a7e6b",
   "metadata": {},
   "outputs": [
    {
     "data": {
      "text/plain": [
       "True"
      ]
     },
     "execution_count": 4,
     "metadata": {},
     "output_type": "execute_result"
    }
   ],
   "source": [
    "is_two('2')"
   ]
  },
  {
   "cell_type": "code",
   "execution_count": 5,
   "id": "4ae6cec5",
   "metadata": {},
   "outputs": [
    {
     "data": {
      "text/plain": [
       "False"
      ]
     },
     "execution_count": 5,
     "metadata": {},
     "output_type": "execute_result"
    }
   ],
   "source": [
    "is_two(3)"
   ]
  },
  {
   "cell_type": "code",
   "execution_count": 6,
   "id": "9316d022",
   "metadata": {},
   "outputs": [
    {
     "data": {
      "text/plain": [
       "False"
      ]
     },
     "execution_count": 6,
     "metadata": {},
     "output_type": "execute_result"
    }
   ],
   "source": [
    "is_two('word')"
   ]
  },
  {
   "cell_type": "markdown",
   "id": "80db4ef6",
   "metadata": {},
   "source": [
    "#### 2. Define a function named is_vowel. It should return True if the passed string is a vowel, False otherwise."
   ]
  },
  {
   "cell_type": "code",
   "execution_count": 16,
   "id": "849a434d",
   "metadata": {},
   "outputs": [],
   "source": [
    "is_vowel = lambda letter: letter in ['a','e','i','o','u','A','E','I','O','U']"
   ]
  },
  {
   "cell_type": "code",
   "execution_count": 8,
   "id": "dacd99f7",
   "metadata": {},
   "outputs": [
    {
     "data": {
      "text/plain": [
       "True"
      ]
     },
     "execution_count": 8,
     "metadata": {},
     "output_type": "execute_result"
    }
   ],
   "source": [
    "is_vowel('a')"
   ]
  },
  {
   "cell_type": "code",
   "execution_count": 10,
   "id": "d6f1a853",
   "metadata": {},
   "outputs": [
    {
     "data": {
      "text/plain": [
       "True"
      ]
     },
     "execution_count": 10,
     "metadata": {},
     "output_type": "execute_result"
    }
   ],
   "source": [
    "is_vowel('e')"
   ]
  },
  {
   "cell_type": "code",
   "execution_count": 17,
   "id": "00fd6ae5",
   "metadata": {},
   "outputs": [
    {
     "data": {
      "text/plain": [
       "False"
      ]
     },
     "execution_count": 17,
     "metadata": {},
     "output_type": "execute_result"
    }
   ],
   "source": [
    "is_vowel(4)"
   ]
  },
  {
   "cell_type": "code",
   "execution_count": 18,
   "id": "79c2d0cb",
   "metadata": {},
   "outputs": [
    {
     "data": {
      "text/plain": [
       "False"
      ]
     },
     "execution_count": 18,
     "metadata": {},
     "output_type": "execute_result"
    }
   ],
   "source": [
    "is_vowel('')"
   ]
  },
  {
   "cell_type": "markdown",
   "id": "36c2337d",
   "metadata": {},
   "source": [
    "#### 3. Define a function named is_consonant. It should return True if the passed string is a consonant, False otherwise. Use your is_vowel function to accomplish this."
   ]
  },
  {
   "cell_type": "code",
   "execution_count": 19,
   "id": "10828a8f",
   "metadata": {},
   "outputs": [],
   "source": [
    "is_consonant = lambda letter: not is_vowel(letter)"
   ]
  },
  {
   "cell_type": "code",
   "execution_count": 20,
   "id": "e99d7fe1",
   "metadata": {},
   "outputs": [
    {
     "data": {
      "text/plain": [
       "True"
      ]
     },
     "execution_count": 20,
     "metadata": {},
     "output_type": "execute_result"
    }
   ],
   "source": [
    "is_consonant('b')"
   ]
  },
  {
   "cell_type": "code",
   "execution_count": 21,
   "id": "ae4ffadc",
   "metadata": {},
   "outputs": [
    {
     "data": {
      "text/plain": [
       "False"
      ]
     },
     "execution_count": 21,
     "metadata": {},
     "output_type": "execute_result"
    }
   ],
   "source": [
    "is_consonant('a')"
   ]
  },
  {
   "cell_type": "code",
   "execution_count": 22,
   "id": "2f31375e",
   "metadata": {},
   "outputs": [
    {
     "data": {
      "text/plain": [
       "False"
      ]
     },
     "execution_count": 22,
     "metadata": {},
     "output_type": "execute_result"
    }
   ],
   "source": [
    "is_consonant('E')"
   ]
  },
  {
   "cell_type": "code",
   "execution_count": 24,
   "id": "a1ae4228",
   "metadata": {},
   "outputs": [
    {
     "data": {
      "text/plain": [
       "True"
      ]
     },
     "execution_count": 24,
     "metadata": {},
     "output_type": "execute_result"
    }
   ],
   "source": [
    "is_consonant('C')"
   ]
  },
  {
   "cell_type": "markdown",
   "id": "364408b7",
   "metadata": {},
   "source": [
    "#### 4. Define a function that accepts a string that is a word. The function should capitalize the first letter of the word if the word starts with a consonant."
   ]
  },
  {
   "cell_type": "code",
   "execution_count": 42,
   "id": "b7feee2e",
   "metadata": {},
   "outputs": [],
   "source": [
    "captastic = lambda word: [word.capitalize() if is_consonant(word[0]) else word for word in [word]][0]"
   ]
  },
  {
   "cell_type": "code",
   "execution_count": 43,
   "id": "2ceed20d",
   "metadata": {},
   "outputs": [
    {
     "data": {
      "text/plain": [
       "'Tomato'"
      ]
     },
     "execution_count": 43,
     "metadata": {},
     "output_type": "execute_result"
    }
   ],
   "source": [
    "captastic('tomato')"
   ]
  },
  {
   "cell_type": "code",
   "execution_count": 44,
   "id": "21521fbd",
   "metadata": {},
   "outputs": [
    {
     "data": {
      "text/plain": [
       "'eggplant'"
      ]
     },
     "execution_count": 44,
     "metadata": {},
     "output_type": "execute_result"
    }
   ],
   "source": [
    "captastic('eggplant')"
   ]
  },
  {
   "cell_type": "code",
   "execution_count": 48,
   "id": "306fafae",
   "metadata": {},
   "outputs": [],
   "source": [
    "# #Note: this is roughly the same as:\n",
    "# def captastic(word):\n",
    "#     new_list=[]\n",
    "#     if is_consonant(word[0]):\n",
    "#         new_list.append(word.capitalize())\n",
    "#     else:\n",
    "#         new_list.append(word)\n",
    "#     return new_list[0]"
   ]
  },
  {
   "cell_type": "markdown",
   "id": "266c1645",
   "metadata": {},
   "source": [
    "#### 5. Define a function named calculate_tip. It should accept a tip percentage (a number between 0 and 1) and the bill total, and return the amount to tip."
   ]
  },
  {
   "cell_type": "code",
   "execution_count": 52,
   "id": "0631fada",
   "metadata": {},
   "outputs": [],
   "source": [
    "calculate_tip = lambda tip_percentage, bill: bill * tip_percentage"
   ]
  },
  {
   "cell_type": "code",
   "execution_count": 53,
   "id": "67dc830f",
   "metadata": {},
   "outputs": [
    {
     "data": {
      "text/plain": [
       "20.0"
      ]
     },
     "execution_count": 53,
     "metadata": {},
     "output_type": "execute_result"
    }
   ],
   "source": [
    "calculate_tip(.2, 100)"
   ]
  },
  {
   "cell_type": "code",
   "execution_count": 54,
   "id": "75c2d302",
   "metadata": {},
   "outputs": [
    {
     "data": {
      "text/plain": [
       "18.0"
      ]
     },
     "execution_count": 54,
     "metadata": {},
     "output_type": "execute_result"
    }
   ],
   "source": [
    "calculate_tip(.18, 100)"
   ]
  },
  {
   "cell_type": "markdown",
   "id": "605374a4",
   "metadata": {},
   "source": [
    "## Exercises From:\n",
    "### https://www.w3resource.com/python-exercises/python-functions-exercises.php"
   ]
  },
  {
   "cell_type": "markdown",
   "id": "3ae33f29",
   "metadata": {},
   "source": []
  },
  {
   "cell_type": "markdown",
   "id": "05181ccc",
   "metadata": {},
   "source": [
    "#### 1. Write a Python function to find the Max of three numbers."
   ]
  },
  {
   "cell_type": "code",
   "execution_count": 3,
   "id": "08934283",
   "metadata": {},
   "outputs": [
    {
     "data": {
      "text/plain": [
       "3"
      ]
     },
     "execution_count": 3,
     "metadata": {},
     "output_type": "execute_result"
    }
   ],
   "source": [
    "func = lambda lst: max(lst)\n",
    "func([1,2,3])"
   ]
  },
  {
   "cell_type": "markdown",
   "id": "dc1bdcb3",
   "metadata": {},
   "source": [
    "#### 2. Write a Python function to sum all the numbers in a list."
   ]
  },
  {
   "cell_type": "code",
   "execution_count": 5,
   "id": "4aa1668d",
   "metadata": {},
   "outputs": [
    {
     "data": {
      "text/plain": [
       "6"
      ]
     },
     "execution_count": 5,
     "metadata": {},
     "output_type": "execute_result"
    }
   ],
   "source": [
    "func = lambda lst: sum(lst)\n",
    "func([1,2,3])"
   ]
  },
  {
   "cell_type": "markdown",
   "id": "c39b927b",
   "metadata": {},
   "source": [
    "#### 3. Write a Python function to multiply all the numbers in a list."
   ]
  },
  {
   "cell_type": "code",
   "execution_count": 9,
   "id": "6cfd8083",
   "metadata": {},
   "outputs": [
    {
     "data": {
      "text/plain": [
       "6"
      ]
     },
     "execution_count": 9,
     "metadata": {},
     "output_type": "execute_result"
    }
   ],
   "source": [
    "func = lambda lst: np.prod(lst)\n",
    "func([1,2,3])"
   ]
  },
  {
   "cell_type": "markdown",
   "id": "a47939fa",
   "metadata": {},
   "source": [
    "#### 4. Write a Python program to reverse a string."
   ]
  },
  {
   "cell_type": "code",
   "execution_count": 10,
   "id": "35df0ebc",
   "metadata": {},
   "outputs": [
    {
     "data": {
      "text/plain": [
       "'gfedcba'"
      ]
     },
     "execution_count": 10,
     "metadata": {},
     "output_type": "execute_result"
    }
   ],
   "source": [
    "func = lambda string: string[::-1]\n",
    "func('abcdefg')"
   ]
  },
  {
   "cell_type": "markdown",
   "id": "d588f166",
   "metadata": {},
   "source": [
    "#### 5. Write a Python function to calculate the factorial of a number (a non-negative integer)."
   ]
  },
  {
   "cell_type": "code",
   "execution_count": 15,
   "id": "ac0737b2",
   "metadata": {},
   "outputs": [
    {
     "data": {
      "text/plain": [
       "120"
      ]
     },
     "execution_count": 15,
     "metadata": {},
     "output_type": "execute_result"
    }
   ],
   "source": [
    "func = lambda num: np.prod([i for i in range(1, num + 1)])\n",
    "func(5)"
   ]
  },
  {
   "cell_type": "markdown",
   "id": "e3667ab4",
   "metadata": {},
   "source": [
    "#### 6. Write a Python function to check whether a number falls in a given range."
   ]
  },
  {
   "cell_type": "code",
   "execution_count": 17,
   "id": "02ad5be6",
   "metadata": {},
   "outputs": [
    {
     "data": {
      "text/plain": [
       "True"
      ]
     },
     "execution_count": 17,
     "metadata": {},
     "output_type": "execute_result"
    }
   ],
   "source": [
    "func = lambda num, rng: num in rng\n",
    "func(5, range(10))"
   ]
  },
  {
   "cell_type": "markdown",
   "id": "acba2fd9",
   "metadata": {},
   "source": [
    "#### 7. Write a Python function that accepts a string and calculate the number of upper case letters and lower case letters."
   ]
  },
  {
   "cell_type": "code",
   "execution_count": 35,
   "id": "0051edef",
   "metadata": {},
   "outputs": [
    {
     "data": {
      "text/plain": [
       "'upper: 1, lower: 4'"
      ]
     },
     "execution_count": 35,
     "metadata": {},
     "output_type": "execute_result"
    }
   ],
   "source": [
    "func = lambda string: f'upper: {len([ltr for ltr in string if ltr.isupper()])}, lower: {len([ltr for ltr in string if ltr.islower()])}'\n",
    "func('Apple')"
   ]
  },
  {
   "cell_type": "markdown",
   "id": "f54003d5",
   "metadata": {},
   "source": [
    "#### 8. Write a Python function that takes a list and returns a new list with unique elements of the first list."
   ]
  },
  {
   "cell_type": "code",
   "execution_count": 37,
   "id": "e20e8200",
   "metadata": {},
   "outputs": [
    {
     "data": {
      "text/plain": [
       "[1, 2, 3, 4, 5]"
      ]
     },
     "execution_count": 37,
     "metadata": {},
     "output_type": "execute_result"
    }
   ],
   "source": [
    "func = lambda lst: list(set(lst))\n",
    "func([1,1,2,2,3,3,4,4,5,5])"
   ]
  },
  {
   "cell_type": "markdown",
   "id": "782e5b35",
   "metadata": {},
   "source": [
    "\n",
    "\n",
    "9. Write a Python function that takes a number as a parameter and check the number is prime or not. Go to the editor\n",
    "Note : A prime number (or a prime) is a natural number greater than 1 and that has no positive divisors other than 1 and itself.\n",
    "Click me to see the sample solution\n",
    "\n",
    "10. Write a Python program to print the even numbers from a given list. Go to the editor\n",
    "Sample List : [1, 2, 3, 4, 5, 6, 7, 8, 9]\n",
    "Expected Result : [2, 4, 6, 8]\n",
    "Click me to see the sample solution\n",
    "\n",
    "11. Write a Python function to check whether a number is perfect or not. Go to the editor\n",
    "According to Wikipedia : In number theory, a perfect number is a positive integer that is equal to the sum of its proper positive divisors, that is, the sum of its positive divisors excluding the number itself (also known as its aliquot sum). Equivalently, a perfect number is a number that is half the sum of all of its positive divisors (including itself).\n",
    "Example : The first perfect number is 6, because 1, 2, and 3 are its proper positive divisors, and 1 + 2 + 3 = 6. Equivalently, the number 6 is equal to half the sum of all its positive divisors: ( 1 + 2 + 3 + 6 ) / 2 = 6. The next perfect number is 28 = 1 + 2 + 4 + 7 + 14. This is followed by the perfect numbers 496 and 8128.\n",
    "Click me to see the sample solution\n",
    "\n",
    "12. Write a Python function that checks whether a passed string is palindrome or not. Go to the editor\n",
    "Note: A palindrome is a word, phrase, or sequence that reads the same backward as forward, e.g., madam or nurses run.\n",
    "Click me to see the sample solution\n",
    "\n",
    "13. Write a Python function that prints out the first n rows of Pascal's triangle. Go to the editor\n",
    "Note : Pascal's triangle is an arithmetic and geometric figure first imagined by Blaise Pascal.\n",
    "\n",
    "Sample Pascal's triangle :\n",
    "Pascal's triangle\n",
    "\n",
    "Each number is the two numbers above it added together Go to the editor\n",
    "Click me to see the sample solution\n",
    "\n",
    "14. Write a Python function to check whether a string is a pangram or not. Go to the editor\n",
    "Note : Pangrams are words or sentences containing every letter of the alphabet at least once.\n",
    "For example : \"The quick brown fox jumps over the lazy dog\"\n",
    "Click me to see the sample solution\n",
    "\n",
    "15. Write a Python program that accepts a hyphen-separated sequence of words as input and prints the words in a hyphen-separated sequence after sorting them alphabetically. Go to the editor\n",
    "Sample Items : green-red-yellow-black-white\n",
    "Expected Result : black-green-red-white-yellow\n",
    "Click me to see the sample solution\n",
    "\n",
    "16. Write a Python function to create and print a list where the values are square of numbers between 1 and 30 (both included). Go to the editor\n",
    "Click me to see the sample solution\n",
    "\n",
    "17. Write a Python program to make a chain of function decorators (bold, italic, underline etc.) in Python. Go to the editor\n",
    "Click me to see the sample solution\n",
    "\n",
    "18. Write a Python program to execute a string containing Python code. Go to the editor\n",
    "Click me to see the sample solution\n",
    "\n",
    "19. Write a Python program to access a function inside a function. Go to the editor\n",
    "Click me to see the sample solution\n",
    "\n",
    "20. Write a Python program to detect the number of local variables declared in a function. Go to the editor\n",
    "Sample Output:\n",
    "3\n",
    "Click me to see the sample solution\n",
    "\n",
    "21. Write a Python program that invoke a given function after specific milliseconds. Go to the editor\n",
    "Sample Output:\n",
    "Square root after specific miliseconds:\n",
    "4.0\n",
    "10.0\n",
    "158.42979517754858\n",
    "Click me to see the sample solution"
   ]
  },
  {
   "cell_type": "code",
   "execution_count": null,
   "id": "aec93313",
   "metadata": {},
   "outputs": [],
   "source": []
  }
 ],
 "metadata": {
  "kernelspec": {
   "display_name": "Python 3 (ipykernel)",
   "language": "python",
   "name": "python3"
  },
  "language_info": {
   "codemirror_mode": {
    "name": "ipython",
    "version": 3
   },
   "file_extension": ".py",
   "mimetype": "text/x-python",
   "name": "python",
   "nbconvert_exporter": "python",
   "pygments_lexer": "ipython3",
   "version": "3.9.7"
  }
 },
 "nbformat": 4,
 "nbformat_minor": 5
}
