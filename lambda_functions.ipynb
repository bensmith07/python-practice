{
 "cells": [
  {
   "cell_type": "markdown",
   "id": "3ffe4a1d",
   "metadata": {},
   "source": [
    "## Exercises from:\n",
    "### https://www.w3resource.com/python-exercises/lambda/index.php"
   ]
  },
  {
   "cell_type": "markdown",
   "id": "1d02c94d",
   "metadata": {},
   "source": [
    "#### 1. create a lambda function that adds 15 to a given number passed in as an argument, "
   ]
  },
  {
   "cell_type": "code",
   "execution_count": 1,
   "id": "3668d22e",
   "metadata": {},
   "outputs": [
    {
     "data": {
      "text/plain": [
       "19"
      ]
     },
     "execution_count": 1,
     "metadata": {},
     "output_type": "execute_result"
    }
   ],
   "source": [
    "add15 = lambda x: x + 15\n",
    "add15(4)"
   ]
  },
  {
   "cell_type": "markdown",
   "id": "713eeb27",
   "metadata": {},
   "source": [
    "#### 2. create a lambda function that multiplies argument x with argument y"
   ]
  },
  {
   "cell_type": "code",
   "execution_count": 2,
   "id": "63691840",
   "metadata": {},
   "outputs": [
    {
     "data": {
      "text/plain": [
       "30"
      ]
     },
     "execution_count": 2,
     "metadata": {},
     "output_type": "execute_result"
    }
   ],
   "source": [
    "multiply = lambda x, y: x * y\n",
    "multiply(6, 5)"
   ]
  },
  {
   "cell_type": "markdown",
   "id": "a9031ec9",
   "metadata": {},
   "source": [
    "#### 3. sort a list of tuples using Lambda."
   ]
  },
  {
   "cell_type": "code",
   "execution_count": 3,
   "id": "de13cd29",
   "metadata": {},
   "outputs": [],
   "source": [
    "list1 = [('English', 88), ('Science', 90), ('Maths', 97), ('Social sciences', 82)]"
   ]
  },
  {
   "cell_type": "code",
   "execution_count": 4,
   "id": "713784b7",
   "metadata": {},
   "outputs": [
    {
     "data": {
      "text/plain": [
       "[('English', 88), ('Maths', 97), ('Science', 90), ('Social sciences', 82)]"
      ]
     },
     "execution_count": 4,
     "metadata": {},
     "output_type": "execute_result"
    }
   ],
   "source": [
    "# sorted by element at index 0 in each tuple\n",
    "sorter = lambda lst: sorted(lst)\n",
    "list2 = sorter(list1)\n",
    "list2"
   ]
  },
  {
   "cell_type": "code",
   "execution_count": 5,
   "id": "65870628",
   "metadata": {},
   "outputs": [
    {
     "data": {
      "text/plain": [
       "[('Social sciences', 82), ('English', 88), ('Science', 90), ('Maths', 97)]"
      ]
     },
     "execution_count": 5,
     "metadata": {},
     "output_type": "execute_result"
    }
   ],
   "source": [
    "# sorted by element at index 1 in each tuple\n",
    "sorter2 = lambda lst: sorted(lst, key=lambda x: x[1])\n",
    "list3 = sorter2(list1)\n",
    "list3"
   ]
  },
  {
   "cell_type": "markdown",
   "id": "aabb68f3",
   "metadata": {},
   "source": [
    "## Exercises From:\n",
    "https://ds.codeup.com/python/functions/"
   ]
  },
  {
   "cell_type": "markdown",
   "id": "4a3d9974",
   "metadata": {},
   "source": [
    "#### 1. Define a function named is_two. It should accept one input and return True if the passed input is either the number or the string 2, False otherwise."
   ]
  },
  {
   "cell_type": "code",
   "execution_count": 2,
   "id": "69ed6267",
   "metadata": {},
   "outputs": [],
   "source": [
    "is_two = lambda x: x in [2, '2']"
   ]
  },
  {
   "cell_type": "code",
   "execution_count": 3,
   "id": "ea83273f",
   "metadata": {},
   "outputs": [
    {
     "data": {
      "text/plain": [
       "True"
      ]
     },
     "execution_count": 3,
     "metadata": {},
     "output_type": "execute_result"
    }
   ],
   "source": [
    "is_two(2)"
   ]
  },
  {
   "cell_type": "code",
   "execution_count": 4,
   "id": "959a7e6b",
   "metadata": {},
   "outputs": [
    {
     "data": {
      "text/plain": [
       "True"
      ]
     },
     "execution_count": 4,
     "metadata": {},
     "output_type": "execute_result"
    }
   ],
   "source": [
    "is_two('2')"
   ]
  },
  {
   "cell_type": "code",
   "execution_count": 5,
   "id": "4ae6cec5",
   "metadata": {},
   "outputs": [
    {
     "data": {
      "text/plain": [
       "False"
      ]
     },
     "execution_count": 5,
     "metadata": {},
     "output_type": "execute_result"
    }
   ],
   "source": [
    "is_two(3)"
   ]
  },
  {
   "cell_type": "code",
   "execution_count": 6,
   "id": "9316d022",
   "metadata": {},
   "outputs": [
    {
     "data": {
      "text/plain": [
       "False"
      ]
     },
     "execution_count": 6,
     "metadata": {},
     "output_type": "execute_result"
    }
   ],
   "source": [
    "is_two('word')"
   ]
  },
  {
   "cell_type": "markdown",
   "id": "80db4ef6",
   "metadata": {},
   "source": [
    "#### 2. Define a function named is_vowel. It should return True if the passed string is a vowel, False otherwise."
   ]
  },
  {
   "cell_type": "code",
   "execution_count": 16,
   "id": "849a434d",
   "metadata": {},
   "outputs": [],
   "source": [
    "is_vowel = lambda letter: letter in ['a','e','i','o','u','A','E','I','O','U']"
   ]
  },
  {
   "cell_type": "code",
   "execution_count": 8,
   "id": "dacd99f7",
   "metadata": {},
   "outputs": [
    {
     "data": {
      "text/plain": [
       "True"
      ]
     },
     "execution_count": 8,
     "metadata": {},
     "output_type": "execute_result"
    }
   ],
   "source": [
    "is_vowel('a')"
   ]
  },
  {
   "cell_type": "code",
   "execution_count": 10,
   "id": "d6f1a853",
   "metadata": {},
   "outputs": [
    {
     "data": {
      "text/plain": [
       "True"
      ]
     },
     "execution_count": 10,
     "metadata": {},
     "output_type": "execute_result"
    }
   ],
   "source": [
    "is_vowel('e')"
   ]
  },
  {
   "cell_type": "code",
   "execution_count": 17,
   "id": "00fd6ae5",
   "metadata": {},
   "outputs": [
    {
     "data": {
      "text/plain": [
       "False"
      ]
     },
     "execution_count": 17,
     "metadata": {},
     "output_type": "execute_result"
    }
   ],
   "source": [
    "is_vowel(4)"
   ]
  },
  {
   "cell_type": "code",
   "execution_count": 18,
   "id": "79c2d0cb",
   "metadata": {},
   "outputs": [
    {
     "data": {
      "text/plain": [
       "False"
      ]
     },
     "execution_count": 18,
     "metadata": {},
     "output_type": "execute_result"
    }
   ],
   "source": [
    "is_vowel('')"
   ]
  },
  {
   "cell_type": "markdown",
   "id": "36c2337d",
   "metadata": {},
   "source": [
    "#### 3. Define a function named is_consonant. It should return True if the passed string is a consonant, False otherwise. Use your is_vowel function to accomplish this."
   ]
  },
  {
   "cell_type": "code",
   "execution_count": 19,
   "id": "10828a8f",
   "metadata": {},
   "outputs": [],
   "source": [
    "is_consonant = lambda letter: not is_vowel(letter)"
   ]
  },
  {
   "cell_type": "code",
   "execution_count": 20,
   "id": "e99d7fe1",
   "metadata": {},
   "outputs": [
    {
     "data": {
      "text/plain": [
       "True"
      ]
     },
     "execution_count": 20,
     "metadata": {},
     "output_type": "execute_result"
    }
   ],
   "source": [
    "is_consonant('b')"
   ]
  },
  {
   "cell_type": "code",
   "execution_count": 21,
   "id": "ae4ffadc",
   "metadata": {},
   "outputs": [
    {
     "data": {
      "text/plain": [
       "False"
      ]
     },
     "execution_count": 21,
     "metadata": {},
     "output_type": "execute_result"
    }
   ],
   "source": [
    "is_consonant('a')"
   ]
  },
  {
   "cell_type": "code",
   "execution_count": 22,
   "id": "2f31375e",
   "metadata": {},
   "outputs": [
    {
     "data": {
      "text/plain": [
       "False"
      ]
     },
     "execution_count": 22,
     "metadata": {},
     "output_type": "execute_result"
    }
   ],
   "source": [
    "is_consonant('E')"
   ]
  },
  {
   "cell_type": "code",
   "execution_count": 24,
   "id": "a1ae4228",
   "metadata": {},
   "outputs": [
    {
     "data": {
      "text/plain": [
       "True"
      ]
     },
     "execution_count": 24,
     "metadata": {},
     "output_type": "execute_result"
    }
   ],
   "source": [
    "is_consonant('C')"
   ]
  },
  {
   "cell_type": "markdown",
   "id": "364408b7",
   "metadata": {},
   "source": [
    "#### 4. Define a function that accepts a string that is a word. The function should capitalize the first letter of the word if the word starts with a consonant."
   ]
  },
  {
   "cell_type": "code",
   "execution_count": 42,
   "id": "b7feee2e",
   "metadata": {},
   "outputs": [],
   "source": [
    "captastic = lambda word: [word.capitalize() if is_consonant(word[0]) else word for word in [word]][0]"
   ]
  },
  {
   "cell_type": "code",
   "execution_count": 43,
   "id": "2ceed20d",
   "metadata": {},
   "outputs": [
    {
     "data": {
      "text/plain": [
       "'Tomato'"
      ]
     },
     "execution_count": 43,
     "metadata": {},
     "output_type": "execute_result"
    }
   ],
   "source": [
    "captastic('tomato')"
   ]
  },
  {
   "cell_type": "code",
   "execution_count": 44,
   "id": "21521fbd",
   "metadata": {},
   "outputs": [
    {
     "data": {
      "text/plain": [
       "'eggplant'"
      ]
     },
     "execution_count": 44,
     "metadata": {},
     "output_type": "execute_result"
    }
   ],
   "source": [
    "captastic('eggplant')"
   ]
  },
  {
   "cell_type": "code",
   "execution_count": 48,
   "id": "306fafae",
   "metadata": {},
   "outputs": [],
   "source": [
    "# #Note: this is roughly the same as:\n",
    "# def captastic(word):\n",
    "#     new_list=[]\n",
    "#     if is_consonant(word[0]):\n",
    "#         new_list.append(word.capitalize())\n",
    "#     else:\n",
    "#         new_list.append(word)\n",
    "#     return new_list[0]"
   ]
  },
  {
   "cell_type": "markdown",
   "id": "266c1645",
   "metadata": {},
   "source": [
    "#### 5. Define a function named calculate_tip. It should accept a tip percentage (a number between 0 and 1) and the bill total, and return the amount to tip."
   ]
  },
  {
   "cell_type": "code",
   "execution_count": 52,
   "id": "0631fada",
   "metadata": {},
   "outputs": [],
   "source": [
    "calculate_tip = lambda tip_percentage, bill: bill * tip_percentage"
   ]
  },
  {
   "cell_type": "code",
   "execution_count": 53,
   "id": "67dc830f",
   "metadata": {},
   "outputs": [
    {
     "data": {
      "text/plain": [
       "20.0"
      ]
     },
     "execution_count": 53,
     "metadata": {},
     "output_type": "execute_result"
    }
   ],
   "source": [
    "calculate_tip(.2, 100)"
   ]
  },
  {
   "cell_type": "code",
   "execution_count": 54,
   "id": "75c2d302",
   "metadata": {},
   "outputs": [
    {
     "data": {
      "text/plain": [
       "18.0"
      ]
     },
     "execution_count": 54,
     "metadata": {},
     "output_type": "execute_result"
    }
   ],
   "source": [
    "calculate_tip(.18, 100)"
   ]
  }
 ],
 "metadata": {
  "kernelspec": {
   "display_name": "Python 3 (ipykernel)",
   "language": "python",
   "name": "python3"
  },
  "language_info": {
   "codemirror_mode": {
    "name": "ipython",
    "version": 3
   },
   "file_extension": ".py",
   "mimetype": "text/x-python",
   "name": "python",
   "nbconvert_exporter": "python",
   "pygments_lexer": "ipython3",
   "version": "3.9.7"
  }
 },
 "nbformat": 4,
 "nbformat_minor": 5
}
