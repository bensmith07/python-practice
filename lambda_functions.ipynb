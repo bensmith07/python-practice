{
 "cells": [
  {
   "cell_type": "markdown",
   "id": "744f788c",
   "metadata": {},
   "source": [
    "## Exercises from:\n",
    "### https://www.w3resource.com/python-exercises/lambda/index.php"
   ]
  },
  {
   "cell_type": "markdown",
   "id": "e41029c1",
   "metadata": {},
   "source": [
    "#### 1. create a lambda function that adds 15 to a given number passed in as an argument, "
   ]
  },
  {
   "cell_type": "code",
   "execution_count": 1,
   "id": "709bd405",
   "metadata": {},
   "outputs": [
    {
     "data": {
      "text/plain": [
       "19"
      ]
     },
     "execution_count": 1,
     "metadata": {},
     "output_type": "execute_result"
    }
   ],
   "source": [
    "add15 = lambda x: x + 15\n",
    "add15(4)"
   ]
  },
  {
   "cell_type": "markdown",
   "id": "28bdedf6",
   "metadata": {},
   "source": [
    "#### 2. create a lambda function that multiplies argument x with argument y"
   ]
  },
  {
   "cell_type": "code",
   "execution_count": 2,
   "id": "dbc28971",
   "metadata": {},
   "outputs": [
    {
     "data": {
      "text/plain": [
       "30"
      ]
     },
     "execution_count": 2,
     "metadata": {},
     "output_type": "execute_result"
    }
   ],
   "source": [
    "multiply = lambda x, y: x * y\n",
    "multiply(6, 5)"
   ]
  },
  {
   "cell_type": "markdown",
   "id": "dd3eafcd",
   "metadata": {},
   "source": [
    "#### 3. sort a list of tuples using Lambda."
   ]
  },
  {
   "cell_type": "code",
   "execution_count": 3,
   "id": "f3f825ca",
   "metadata": {},
   "outputs": [],
   "source": [
    "list1 = [('English', 88), ('Science', 90), ('Maths', 97), ('Social sciences', 82)]"
   ]
  },
  {
   "cell_type": "code",
   "execution_count": 4,
   "id": "4169a9c6",
   "metadata": {},
   "outputs": [
    {
     "data": {
      "text/plain": [
       "[('English', 88), ('Maths', 97), ('Science', 90), ('Social sciences', 82)]"
      ]
     },
     "execution_count": 4,
     "metadata": {},
     "output_type": "execute_result"
    }
   ],
   "source": [
    "# sorted by element at index 0 in each tuple\n",
    "sorter = lambda lst: sorted(lst)\n",
    "list2 = sorter(list1)\n",
    "list2"
   ]
  },
  {
   "cell_type": "code",
   "execution_count": 5,
   "id": "fc019b5e",
   "metadata": {},
   "outputs": [
    {
     "data": {
      "text/plain": [
       "[('Social sciences', 82), ('English', 88), ('Science', 90), ('Maths', 97)]"
      ]
     },
     "execution_count": 5,
     "metadata": {},
     "output_type": "execute_result"
    }
   ],
   "source": [
    "# sorted by element at index 1 in each tuple\n",
    "sorter2 = lambda lst: sorted(lst, key=lambda x: x[1])\n",
    "list3 = sorter2(list1)\n",
    "list3"
   ]
  }
 ],
 "metadata": {
  "kernelspec": {
   "display_name": "Python 3 (ipykernel)",
   "language": "python",
   "name": "python3"
  },
  "language_info": {
   "codemirror_mode": {
    "name": "ipython",
    "version": 3
   },
   "file_extension": ".py",
   "mimetype": "text/x-python",
   "name": "python",
   "nbconvert_exporter": "python",
   "pygments_lexer": "ipython3",
   "version": "3.9.7"
  }
 },
 "nbformat": 4,
 "nbformat_minor": 5
}
