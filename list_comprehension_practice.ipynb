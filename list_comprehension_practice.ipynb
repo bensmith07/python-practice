{
 "cells": [
  {
   "cell_type": "markdown",
   "id": "85cb9dd0",
   "metadata": {},
   "source": [
    "# List Comprehension Practice Exercises"
   ]
  },
  {
   "cell_type": "markdown",
   "id": "77d42865",
   "metadata": {},
   "source": [
    "## Exercises from:\n",
    "### https://holypython.com/intermediate-python-exercises/exercise-16-python-list-comprehensions/"
   ]
  },
  {
   "cell_type": "markdown",
   "id": "f66cce88",
   "metadata": {},
   "source": [
    "#### 1. Create an identical list from the first list using list comprehension."
   ]
  },
  {
   "cell_type": "code",
   "execution_count": 1,
   "id": "93c314fe",
   "metadata": {},
   "outputs": [
    {
     "data": {
      "text/plain": [
       "[1, 2, 3, 4, 5]"
      ]
     },
     "execution_count": 1,
     "metadata": {},
     "output_type": "execute_result"
    }
   ],
   "source": [
    "lst1=[1,2,3,4,5]\n",
    "\n",
    "[i for i in range(1, 6)]"
   ]
  },
  {
   "cell_type": "markdown",
   "id": "ebeae920",
   "metadata": {},
   "source": [
    "#### 2. Create a list from the elements of a range from 1200 to 2000 with steps of 130, using list comprehension."
   ]
  },
  {
   "cell_type": "code",
   "execution_count": 2,
   "id": "ee4fc9ff",
   "metadata": {},
   "outputs": [
    {
     "data": {
      "text/plain": [
       "[1200, 1330, 1460, 1590, 1720, 1850, 1980]"
      ]
     },
     "execution_count": 2,
     "metadata": {},
     "output_type": "execute_result"
    }
   ],
   "source": [
    "[i for i in range(1200, 2001, 130)]"
   ]
  },
  {
   "cell_type": "markdown",
   "id": "15012d85",
   "metadata": {},
   "source": [
    "#### 3. Use list comprehension to contruct a new list but add 6 to each item."
   ]
  },
  {
   "cell_type": "code",
   "execution_count": 3,
   "id": "81c12284",
   "metadata": {},
   "outputs": [
    {
     "data": {
      "text/plain": [
       "[50, 60, 70, 80, 110]"
      ]
     },
     "execution_count": 3,
     "metadata": {},
     "output_type": "execute_result"
    }
   ],
   "source": [
    "lst1=[44,54,64,74,104]\n",
    "\n",
    "[i + 6 for i in lst1]"
   ]
  },
  {
   "cell_type": "markdown",
   "id": "8dbe823a",
   "metadata": {},
   "source": [
    "#### 4. Using list comprehension, construct a list from the squares of each element in the list."
   ]
  },
  {
   "cell_type": "code",
   "execution_count": 4,
   "id": "454978cc",
   "metadata": {},
   "outputs": [
    {
     "data": {
      "text/plain": [
       "[4, 16, 36, 64, 100, 144, 196]"
      ]
     },
     "execution_count": 4,
     "metadata": {},
     "output_type": "execute_result"
    }
   ],
   "source": [
    "lst1=[2, 4, 6, 8, 10, 12, 14]\n",
    "\n",
    "[i ** 2 for i in lst1]"
   ]
  },
  {
   "cell_type": "markdown",
   "id": "a235a033",
   "metadata": {},
   "source": [
    "#### 5. Using list comprehension, construct a list from the squares of each element in the list, if the square is greater than 50."
   ]
  },
  {
   "cell_type": "code",
   "execution_count": 5,
   "id": "d5cb1cad",
   "metadata": {},
   "outputs": [
    {
     "data": {
      "text/plain": [
       "[64, 100, 144, 196]"
      ]
     },
     "execution_count": 5,
     "metadata": {},
     "output_type": "execute_result"
    }
   ],
   "source": [
    "lst1=[2, 4, 6, 8, 10, 12, 14]\n",
    "\n",
    "[i ** 2 for i in lst1 if i ** 2 > 50]"
   ]
  },
  {
   "cell_type": "markdown",
   "id": "30543741",
   "metadata": {},
   "source": [
    "#### 6. Given dictionary is consisted of vehicles and their weights in kilograms. Contruct a list of the names of vehicles with weight below 5000 kilograms. In the same list comprehension make the key names all upper case."
   ]
  },
  {
   "cell_type": "code",
   "execution_count": 6,
   "id": "8675b0af",
   "metadata": {},
   "outputs": [
    {
     "data": {
      "text/plain": [
       "['SEMI']"
      ]
     },
     "execution_count": 6,
     "metadata": {},
     "output_type": "execute_result"
    }
   ],
   "source": [
    "vics={\"Sedan\": 1500, \"SUV\": 2000, \"Pickup\": 2500, \"Minivan\": 1600, \"Van\": 2400, \"Semi\": 13600, \"Bicycle\": 7, \"Motorcycle\": 110}\n",
    "\n",
    "[key.upper() for key in vics if vics[key] > 5000]"
   ]
  },
  {
   "cell_type": "markdown",
   "id": "d78df46e",
   "metadata": {},
   "source": [
    "## Exercises From:\n",
    "### https://bbookman.github.io/Python-list-comprehension1/"
   ]
  },
  {
   "cell_type": "markdown",
   "id": "f32293f1",
   "metadata": {},
   "source": [
    "#### 1. Find all of the numbers from 1-1000 that are divisible by 7"
   ]
  },
  {
   "cell_type": "code",
   "execution_count": 7,
   "id": "06658076",
   "metadata": {},
   "outputs": [
    {
     "data": {
      "text/plain": [
       "[7,\n",
       " 14,\n",
       " 21,\n",
       " 28,\n",
       " 35,\n",
       " 42,\n",
       " 49,\n",
       " 56,\n",
       " 63,\n",
       " 70,\n",
       " 77,\n",
       " 84,\n",
       " 91,\n",
       " 98,\n",
       " 105,\n",
       " 112,\n",
       " 119,\n",
       " 126,\n",
       " 133,\n",
       " 140,\n",
       " 147,\n",
       " 154,\n",
       " 161,\n",
       " 168,\n",
       " 175,\n",
       " 182,\n",
       " 189,\n",
       " 196,\n",
       " 203,\n",
       " 210,\n",
       " 217,\n",
       " 224,\n",
       " 231,\n",
       " 238,\n",
       " 245,\n",
       " 252,\n",
       " 259,\n",
       " 266,\n",
       " 273,\n",
       " 280,\n",
       " 287,\n",
       " 294,\n",
       " 301,\n",
       " 308,\n",
       " 315,\n",
       " 322,\n",
       " 329,\n",
       " 336,\n",
       " 343,\n",
       " 350,\n",
       " 357,\n",
       " 364,\n",
       " 371,\n",
       " 378,\n",
       " 385,\n",
       " 392,\n",
       " 399,\n",
       " 406,\n",
       " 413,\n",
       " 420,\n",
       " 427,\n",
       " 434,\n",
       " 441,\n",
       " 448,\n",
       " 455,\n",
       " 462,\n",
       " 469,\n",
       " 476,\n",
       " 483,\n",
       " 490,\n",
       " 497,\n",
       " 504,\n",
       " 511,\n",
       " 518,\n",
       " 525,\n",
       " 532,\n",
       " 539,\n",
       " 546,\n",
       " 553,\n",
       " 560,\n",
       " 567,\n",
       " 574,\n",
       " 581,\n",
       " 588,\n",
       " 595,\n",
       " 602,\n",
       " 609,\n",
       " 616,\n",
       " 623,\n",
       " 630,\n",
       " 637,\n",
       " 644,\n",
       " 651,\n",
       " 658,\n",
       " 665,\n",
       " 672,\n",
       " 679,\n",
       " 686,\n",
       " 693,\n",
       " 700,\n",
       " 707,\n",
       " 714,\n",
       " 721,\n",
       " 728,\n",
       " 735,\n",
       " 742,\n",
       " 749,\n",
       " 756,\n",
       " 763,\n",
       " 770,\n",
       " 777,\n",
       " 784,\n",
       " 791,\n",
       " 798,\n",
       " 805,\n",
       " 812,\n",
       " 819,\n",
       " 826,\n",
       " 833,\n",
       " 840,\n",
       " 847,\n",
       " 854,\n",
       " 861,\n",
       " 868,\n",
       " 875,\n",
       " 882,\n",
       " 889,\n",
       " 896,\n",
       " 903,\n",
       " 910,\n",
       " 917,\n",
       " 924,\n",
       " 931,\n",
       " 938,\n",
       " 945,\n",
       " 952,\n",
       " 959,\n",
       " 966,\n",
       " 973,\n",
       " 980,\n",
       " 987,\n",
       " 994]"
      ]
     },
     "execution_count": 7,
     "metadata": {},
     "output_type": "execute_result"
    }
   ],
   "source": [
    "[i for i in range(1,1001) if i % 7 == 0]"
   ]
  },
  {
   "cell_type": "markdown",
   "id": "2a36c4a3",
   "metadata": {},
   "source": [
    "#### 2. Find all of the numbers from 1-1000 that have a 3 in them"
   ]
  },
  {
   "cell_type": "code",
   "execution_count": 8,
   "id": "91eacd8b",
   "metadata": {},
   "outputs": [
    {
     "data": {
      "text/plain": [
       "[3,\n",
       " 13,\n",
       " 23,\n",
       " 30,\n",
       " 31,\n",
       " 32,\n",
       " 33,\n",
       " 34,\n",
       " 35,\n",
       " 36,\n",
       " 37,\n",
       " 38,\n",
       " 39,\n",
       " 43,\n",
       " 53,\n",
       " 63,\n",
       " 73,\n",
       " 83,\n",
       " 93,\n",
       " 103,\n",
       " 113,\n",
       " 123,\n",
       " 130,\n",
       " 131,\n",
       " 132,\n",
       " 133,\n",
       " 134,\n",
       " 135,\n",
       " 136,\n",
       " 137,\n",
       " 138,\n",
       " 139,\n",
       " 143,\n",
       " 153,\n",
       " 163,\n",
       " 173,\n",
       " 183,\n",
       " 193,\n",
       " 203,\n",
       " 213,\n",
       " 223,\n",
       " 230,\n",
       " 231,\n",
       " 232,\n",
       " 233,\n",
       " 234,\n",
       " 235,\n",
       " 236,\n",
       " 237,\n",
       " 238,\n",
       " 239,\n",
       " 243,\n",
       " 253,\n",
       " 263,\n",
       " 273,\n",
       " 283,\n",
       " 293,\n",
       " 300,\n",
       " 301,\n",
       " 302,\n",
       " 303,\n",
       " 304,\n",
       " 305,\n",
       " 306,\n",
       " 307,\n",
       " 308,\n",
       " 309,\n",
       " 310,\n",
       " 311,\n",
       " 312,\n",
       " 313,\n",
       " 314,\n",
       " 315,\n",
       " 316,\n",
       " 317,\n",
       " 318,\n",
       " 319,\n",
       " 320,\n",
       " 321,\n",
       " 322,\n",
       " 323,\n",
       " 324,\n",
       " 325,\n",
       " 326,\n",
       " 327,\n",
       " 328,\n",
       " 329,\n",
       " 330,\n",
       " 331,\n",
       " 332,\n",
       " 333,\n",
       " 334,\n",
       " 335,\n",
       " 336,\n",
       " 337,\n",
       " 338,\n",
       " 339,\n",
       " 340,\n",
       " 341,\n",
       " 342,\n",
       " 343,\n",
       " 344,\n",
       " 345,\n",
       " 346,\n",
       " 347,\n",
       " 348,\n",
       " 349,\n",
       " 350,\n",
       " 351,\n",
       " 352,\n",
       " 353,\n",
       " 354,\n",
       " 355,\n",
       " 356,\n",
       " 357,\n",
       " 358,\n",
       " 359,\n",
       " 360,\n",
       " 361,\n",
       " 362,\n",
       " 363,\n",
       " 364,\n",
       " 365,\n",
       " 366,\n",
       " 367,\n",
       " 368,\n",
       " 369,\n",
       " 370,\n",
       " 371,\n",
       " 372,\n",
       " 373,\n",
       " 374,\n",
       " 375,\n",
       " 376,\n",
       " 377,\n",
       " 378,\n",
       " 379,\n",
       " 380,\n",
       " 381,\n",
       " 382,\n",
       " 383,\n",
       " 384,\n",
       " 385,\n",
       " 386,\n",
       " 387,\n",
       " 388,\n",
       " 389,\n",
       " 390,\n",
       " 391,\n",
       " 392,\n",
       " 393,\n",
       " 394,\n",
       " 395,\n",
       " 396,\n",
       " 397,\n",
       " 398,\n",
       " 399,\n",
       " 403,\n",
       " 413,\n",
       " 423,\n",
       " 430,\n",
       " 431,\n",
       " 432,\n",
       " 433,\n",
       " 434,\n",
       " 435,\n",
       " 436,\n",
       " 437,\n",
       " 438,\n",
       " 439,\n",
       " 443,\n",
       " 453,\n",
       " 463,\n",
       " 473,\n",
       " 483,\n",
       " 493,\n",
       " 503,\n",
       " 513,\n",
       " 523,\n",
       " 530,\n",
       " 531,\n",
       " 532,\n",
       " 533,\n",
       " 534,\n",
       " 535,\n",
       " 536,\n",
       " 537,\n",
       " 538,\n",
       " 539,\n",
       " 543,\n",
       " 553,\n",
       " 563,\n",
       " 573,\n",
       " 583,\n",
       " 593,\n",
       " 603,\n",
       " 613,\n",
       " 623,\n",
       " 630,\n",
       " 631,\n",
       " 632,\n",
       " 633,\n",
       " 634,\n",
       " 635,\n",
       " 636,\n",
       " 637,\n",
       " 638,\n",
       " 639,\n",
       " 643,\n",
       " 653,\n",
       " 663,\n",
       " 673,\n",
       " 683,\n",
       " 693,\n",
       " 703,\n",
       " 713,\n",
       " 723,\n",
       " 730,\n",
       " 731,\n",
       " 732,\n",
       " 733,\n",
       " 734,\n",
       " 735,\n",
       " 736,\n",
       " 737,\n",
       " 738,\n",
       " 739,\n",
       " 743,\n",
       " 753,\n",
       " 763,\n",
       " 773,\n",
       " 783,\n",
       " 793,\n",
       " 803,\n",
       " 813,\n",
       " 823,\n",
       " 830,\n",
       " 831,\n",
       " 832,\n",
       " 833,\n",
       " 834,\n",
       " 835,\n",
       " 836,\n",
       " 837,\n",
       " 838,\n",
       " 839,\n",
       " 843,\n",
       " 853,\n",
       " 863,\n",
       " 873,\n",
       " 883,\n",
       " 893,\n",
       " 903,\n",
       " 913,\n",
       " 923,\n",
       " 930,\n",
       " 931,\n",
       " 932,\n",
       " 933,\n",
       " 934,\n",
       " 935,\n",
       " 936,\n",
       " 937,\n",
       " 938,\n",
       " 939,\n",
       " 943,\n",
       " 953,\n",
       " 963,\n",
       " 973,\n",
       " 983,\n",
       " 993]"
      ]
     },
     "execution_count": 8,
     "metadata": {},
     "output_type": "execute_result"
    }
   ],
   "source": [
    "[i for i in range(1,1001) if '3' in str(i)]"
   ]
  },
  {
   "cell_type": "markdown",
   "id": "47dbf9ad",
   "metadata": {},
   "source": [
    "#### 3. Count the number of spaces in a string"
   ]
  },
  {
   "cell_type": "code",
   "execution_count": 9,
   "id": "5ccf2b08",
   "metadata": {},
   "outputs": [
    {
     "data": {
      "text/plain": [
       "9"
      ]
     },
     "execution_count": 9,
     "metadata": {},
     "output_type": "execute_result"
    }
   ],
   "source": [
    "some_string = 'the slow solid squid swam sumptuously through the slimy swamp'\n",
    "sum([1 for char in some_string if char == ' '])"
   ]
  },
  {
   "cell_type": "markdown",
   "id": "10c7130c",
   "metadata": {},
   "source": [
    "#### 4. Create a list of all the consonants in the string "
   ]
  },
  {
   "cell_type": "code",
   "execution_count": 10,
   "id": "5dd2e6dd",
   "metadata": {},
   "outputs": [
    {
     "data": {
      "text/plain": [
       "['Y',\n",
       " 'l',\n",
       " 'l',\n",
       " 'w',\n",
       " ' ',\n",
       " 'Y',\n",
       " 'k',\n",
       " 's',\n",
       " ' ',\n",
       " 'l',\n",
       " 'k',\n",
       " ' ',\n",
       " 'y',\n",
       " 'l',\n",
       " 'l',\n",
       " 'n',\n",
       " 'g',\n",
       " ' ',\n",
       " 'n',\n",
       " 'd',\n",
       " ' ',\n",
       " 'y',\n",
       " 'w',\n",
       " 'n',\n",
       " 'n',\n",
       " 'g',\n",
       " ' ',\n",
       " 'n',\n",
       " 'd',\n",
       " ' ',\n",
       " 'y',\n",
       " 's',\n",
       " 't',\n",
       " 'r',\n",
       " 'd',\n",
       " 'y',\n",
       " ' ',\n",
       " 't',\n",
       " 'h',\n",
       " 'y',\n",
       " ' ',\n",
       " 'y',\n",
       " 'd',\n",
       " 'l',\n",
       " 'd',\n",
       " ' ',\n",
       " 'w',\n",
       " 'h',\n",
       " 'l',\n",
       " ' ',\n",
       " 't',\n",
       " 'n',\n",
       " 'g',\n",
       " ' ',\n",
       " 'y',\n",
       " 'k',\n",
       " 'y',\n",
       " ' ',\n",
       " 'y',\n",
       " 'm',\n",
       " 's']"
      ]
     },
     "execution_count": 10,
     "metadata": {},
     "output_type": "execute_result"
    }
   ],
   "source": [
    "some_string = 'Yellow Yaks like yelling and yawning and yesturday they yodled while eating yuky yams'\n",
    "[char for char in some_string if char.lower() not in 'aeiou']"
   ]
  },
  {
   "cell_type": "markdown",
   "id": "ea3009b5",
   "metadata": {},
   "source": [
    "#### 5. Get the index and the value as a tuple for items in the list “hi”, 4, 8.99, ‘apple’, (‘t,b’,’n’). Result would look like (index, value), (index, value)"
   ]
  },
  {
   "cell_type": "code",
   "execution_count": 11,
   "id": "11ef472b",
   "metadata": {},
   "outputs": [
    {
     "data": {
      "text/plain": [
       "[(0, 'hi'), (1, 4), (2, 8.99), (3, 'apple'), (4, ('t,b', 'n'))]"
      ]
     },
     "execution_count": 11,
     "metadata": {},
     "output_type": "execute_result"
    }
   ],
   "source": [
    "lst = ['hi', 4, 8.99, 'apple', ('t,b','n')]\n",
    "[(lst.index(elem), elem) for elem in lst]"
   ]
  },
  {
   "cell_type": "markdown",
   "id": "c025f88b",
   "metadata": {},
   "source": [
    "#### 6. Find the common numbers in two lists (without using a tuple or set)"
   ]
  },
  {
   "cell_type": "code",
   "execution_count": 12,
   "id": "c1683600",
   "metadata": {},
   "outputs": [
    {
     "data": {
      "text/plain": [
       "[2, 3, 4]"
      ]
     },
     "execution_count": 12,
     "metadata": {},
     "output_type": "execute_result"
    }
   ],
   "source": [
    "lst_a = [1, 2, 3, 4]\n",
    "lst_b = [2, 3, 4, 5]\n",
    "\n",
    "[i for i in lst_a if i in lst_b]"
   ]
  },
  {
   "cell_type": "markdown",
   "id": "c155ddc7",
   "metadata": {},
   "source": [
    "#### 7. Get only the numbers in a sentence "
   ]
  },
  {
   "cell_type": "code",
   "execution_count": 13,
   "id": "9d022a50",
   "metadata": {},
   "outputs": [
    {
     "data": {
      "text/plain": [
       "['1984', '13', '1000']"
      ]
     },
     "execution_count": 13,
     "metadata": {},
     "output_type": "execute_result"
    }
   ],
   "source": [
    "sentence = 'In 1984 there were 13 instances of a protest with over 1000 people attending.'\n",
    "[word for word in sentence.split() if word.isdigit()]"
   ]
  },
  {
   "cell_type": "markdown",
   "id": "c5c629de",
   "metadata": {},
   "source": [
    "#### 8. Given numbers = range(20), produce a list containing the word ‘even’ if a number in the numbers is even, and the word ‘odd’ if the number is odd. Result would look like ‘odd’,’odd’, ‘even’"
   ]
  },
  {
   "cell_type": "code",
   "execution_count": 14,
   "id": "6d65b4db",
   "metadata": {},
   "outputs": [
    {
     "data": {
      "text/plain": [
       "['even',\n",
       " 'odd',\n",
       " 'even',\n",
       " 'odd',\n",
       " 'even',\n",
       " 'odd',\n",
       " 'even',\n",
       " 'odd',\n",
       " 'even',\n",
       " 'odd',\n",
       " 'even',\n",
       " 'odd',\n",
       " 'even',\n",
       " 'odd',\n",
       " 'even',\n",
       " 'odd',\n",
       " 'even',\n",
       " 'odd',\n",
       " 'even',\n",
       " 'odd']"
      ]
     },
     "execution_count": 14,
     "metadata": {},
     "output_type": "execute_result"
    }
   ],
   "source": [
    "['even' if i % 2 == 0 else 'odd' for i in range(20)]"
   ]
  },
  {
   "cell_type": "markdown",
   "id": "72a34193",
   "metadata": {},
   "source": [
    "#### 9. Produce a list of tuples consisting of only the matching numbers in these lists."
   ]
  },
  {
   "cell_type": "code",
   "execution_count": 15,
   "id": "9e299de9",
   "metadata": {},
   "outputs": [
    {
     "data": {
      "text/plain": [
       "[(1, 1), (2, 2), (7, 7)]"
      ]
     },
     "execution_count": 15,
     "metadata": {},
     "output_type": "execute_result"
    }
   ],
   "source": [
    "lst_a = [1, 2, 3, 4, 5, 6, 7, 8, 9]\n",
    "lst_b = [2, 7, 1, 12]\n",
    "\n",
    "[(elem, elem) for elem in lst_a if elem in lst_b]"
   ]
  },
  {
   "cell_type": "markdown",
   "id": "d905053f",
   "metadata": {},
   "source": [
    "#### 10. Find all of the words in a string that are less than 4 letters"
   ]
  },
  {
   "cell_type": "code",
   "execution_count": 16,
   "id": "efb6434d",
   "metadata": {},
   "outputs": [
    {
     "data": {
      "text/plain": [
       "['On', 'a', 'day', 'in', 'the', 'sun', 'and', 'his', 'red']"
      ]
     },
     "execution_count": 16,
     "metadata": {},
     "output_type": "execute_result"
    }
   ],
   "source": [
    "sentence = 'On a summer day somner smith went simming in the sun and his red skin stung'\n",
    "[word for word in sentence.split() if len(word) < 4]"
   ]
  },
  {
   "cell_type": "markdown",
   "id": "e7c88bf3",
   "metadata": {},
   "source": [
    "#### 11. Use a nested list comprehension to find all of the numbers from 1-100 that are divisible by any single digit besides 1 (2-9)"
   ]
  },
  {
   "cell_type": "code",
   "execution_count": 17,
   "id": "db74e5c3",
   "metadata": {},
   "outputs": [],
   "source": [
    "# old school way\n",
    "lst = []\n",
    "for i in range(1, 101):\n",
    "    for j in range(2, 9):\n",
    "        if i % j == 0:\n",
    "            lst.append(i)\n",
    "result = set(lst)\n",
    "\n",
    "# incorrect attempts\n",
    "# [i if i % j == 0 for j in range(2, 9) for i in range(1, 1001)]\n",
    "# [i for i in range(1, 1001) if i % j for j in range(2, 10) == 0]\n",
    "# [for j in range(2, 9) i for i in range(1, 1001) if i % j == 0]"
   ]
  },
  {
   "cell_type": "code",
   "execution_count": 19,
   "id": "92d841e4",
   "metadata": {},
   "outputs": [
    {
     "data": {
      "text/plain": [
       "[2,\n",
       " 3,\n",
       " 4,\n",
       " 5,\n",
       " 6,\n",
       " 7,\n",
       " 8,\n",
       " 9,\n",
       " 10,\n",
       " 12,\n",
       " 14,\n",
       " 15,\n",
       " 16,\n",
       " 18,\n",
       " 20,\n",
       " 21,\n",
       " 22,\n",
       " 24,\n",
       " 25,\n",
       " 26,\n",
       " 27,\n",
       " 28,\n",
       " 30,\n",
       " 32,\n",
       " 33,\n",
       " 34,\n",
       " 35,\n",
       " 36,\n",
       " 38,\n",
       " 39,\n",
       " 40,\n",
       " 42,\n",
       " 44,\n",
       " 45,\n",
       " 46,\n",
       " 48,\n",
       " 49,\n",
       " 50,\n",
       " 51,\n",
       " 52,\n",
       " 54,\n",
       " 55,\n",
       " 56,\n",
       " 57,\n",
       " 58,\n",
       " 60,\n",
       " 62,\n",
       " 63,\n",
       " 64,\n",
       " 65,\n",
       " 66,\n",
       " 68,\n",
       " 69,\n",
       " 70,\n",
       " 72,\n",
       " 74,\n",
       " 75,\n",
       " 76,\n",
       " 77,\n",
       " 78,\n",
       " 80,\n",
       " 81,\n",
       " 82,\n",
       " 84,\n",
       " 85,\n",
       " 86,\n",
       " 87,\n",
       " 88,\n",
       " 90,\n",
       " 91,\n",
       " 92,\n",
       " 93,\n",
       " 94,\n",
       " 95,\n",
       " 96,\n",
       " 98,\n",
       " 99,\n",
       " 100]"
      ]
     },
     "execution_count": 19,
     "metadata": {},
     "output_type": "execute_result"
    }
   ],
   "source": [
    "# Solution\n",
    "[i for i in range(1, 101) if True in [True for j in range(2,9) if i % j == 0]]"
   ]
  }
 ],
 "metadata": {
  "kernelspec": {
   "display_name": "Python 3 (ipykernel)",
   "language": "python",
   "name": "python3"
  },
  "language_info": {
   "codemirror_mode": {
    "name": "ipython",
    "version": 3
   },
   "file_extension": ".py",
   "mimetype": "text/x-python",
   "name": "python",
   "nbconvert_exporter": "python",
   "pygments_lexer": "ipython3",
   "version": "3.9.7"
  }
 },
 "nbformat": 4,
 "nbformat_minor": 5
}
